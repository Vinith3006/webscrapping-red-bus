{
 "cells": [
  {
   "cell_type": "code",
   "execution_count": 1,
   "metadata": {},
   "outputs": [],
   "source": [
    "#importing libraries\n",
    "import pandas as pd\n",
    "import mysql.connector\n",
    "import numpy as np"
   ]
  },
  {
   "cell_type": "code",
   "execution_count": 2,
   "metadata": {},
   "outputs": [
    {
     "name": "stdout",
     "output_type": "stream",
     "text": [
      "Requirement already satisfied: mysql-connector-python in c:\\users\\vinith\\appdata\\local\\programs\\python\\python312\\lib\\site-packages (9.0.0)\n",
      "Note: you may need to restart the kernel to use updated packages.\n"
     ]
    },
    {
     "name": "stderr",
     "output_type": "stream",
     "text": [
      "\n",
      "[notice] A new release of pip is available: 24.0 -> 24.2\n",
      "[notice] To update, run: python.exe -m pip install --upgrade pip\n"
     ]
    }
   ],
   "source": [
    "%pip install mysql-connector-python"
   ]
  },
  {
   "cell_type": "code",
   "execution_count": 3,
   "metadata": {},
   "outputs": [
    {
     "data": {
      "text/html": [
       "<div>\n",
       "<style scoped>\n",
       "    .dataframe tbody tr th:only-of-type {\n",
       "        vertical-align: middle;\n",
       "    }\n",
       "\n",
       "    .dataframe tbody tr th {\n",
       "        vertical-align: top;\n",
       "    }\n",
       "\n",
       "    .dataframe thead th {\n",
       "        text-align: right;\n",
       "    }\n",
       "</style>\n",
       "<table border=\"1\" class=\"dataframe\">\n",
       "  <thead>\n",
       "    <tr style=\"text-align: right;\">\n",
       "      <th></th>\n",
       "      <th>Bus_name</th>\n",
       "      <th>Bus_type</th>\n",
       "      <th>Start_time</th>\n",
       "      <th>End_time</th>\n",
       "      <th>Total_duration</th>\n",
       "      <th>Price</th>\n",
       "      <th>Seats_Available</th>\n",
       "      <th>Ratings</th>\n",
       "      <th>Route_link</th>\n",
       "      <th>Route_name</th>\n",
       "    </tr>\n",
       "  </thead>\n",
       "  <tbody>\n",
       "    <tr>\n",
       "      <th>0</th>\n",
       "      <td>Assam State Transport Corporation (ASTC) - 154930</td>\n",
       "      <td>Volvo AC Seater 2+2</td>\n",
       "      <td>15:45</td>\n",
       "      <td>20:00</td>\n",
       "      <td>04h 15m</td>\n",
       "      <td>INR 298</td>\n",
       "      <td>6 Seats available</td>\n",
       "      <td>2.9\\n38</td>\n",
       "      <td>https://www.redbus.in/bus-tickets/tezpur-to-gu...</td>\n",
       "      <td>Tezpur to Guwahati</td>\n",
       "    </tr>\n",
       "    <tr>\n",
       "      <th>1</th>\n",
       "      <td>Chartered Bus - ASTC</td>\n",
       "      <td>Volvo AC Seater Pushback 2+2</td>\n",
       "      <td>15:30</td>\n",
       "      <td>19:15</td>\n",
       "      <td>03h 45m</td>\n",
       "      <td>INR 389.13</td>\n",
       "      <td>2 Seats available</td>\n",
       "      <td>4.6\\n492</td>\n",
       "      <td>https://www.redbus.in/bus-tickets/tezpur-to-gu...</td>\n",
       "      <td>Tezpur to Guwahati</td>\n",
       "    </tr>\n",
       "    <tr>\n",
       "      <th>2</th>\n",
       "      <td>Himalayan Travels</td>\n",
       "      <td>NON AC Seater / Sleeper 2+1</td>\n",
       "      <td>23:40</td>\n",
       "      <td>04:00</td>\n",
       "      <td>04h 20m</td>\n",
       "      <td>450</td>\n",
       "      <td>20 Seats available</td>\n",
       "      <td>3.7\\n12</td>\n",
       "      <td>https://www.redbus.in/bus-tickets/tezpur-to-gu...</td>\n",
       "      <td>Tezpur to Guwahati</td>\n",
       "    </tr>\n",
       "    <tr>\n",
       "      <th>3</th>\n",
       "      <td>BLUE HILL TRAVELS INDIA LIMITED</td>\n",
       "      <td>NON A/C Seater Semi Sleeper (2+1)</td>\n",
       "      <td>21:30</td>\n",
       "      <td>03:30</td>\n",
       "      <td>06h 00m</td>\n",
       "      <td>INR 400</td>\n",
       "      <td>15 Seats available</td>\n",
       "      <td>2.9\\n100</td>\n",
       "      <td>https://www.redbus.in/bus-tickets/tezpur-to-gu...</td>\n",
       "      <td>Tezpur to Guwahati</td>\n",
       "    </tr>\n",
       "    <tr>\n",
       "      <th>4</th>\n",
       "      <td>BLUE HILL TRAVELS INDIA LIMITED</td>\n",
       "      <td>NON A/C Seater Semi Sleeper (2+1)</td>\n",
       "      <td>22:15</td>\n",
       "      <td>03:45</td>\n",
       "      <td>05h 30m</td>\n",
       "      <td>INR 550</td>\n",
       "      <td>30 Seats available</td>\n",
       "      <td>3.7\\n26</td>\n",
       "      <td>https://www.redbus.in/bus-tickets/tezpur-to-gu...</td>\n",
       "      <td>Tezpur to Guwahati</td>\n",
       "    </tr>\n",
       "    <tr>\n",
       "      <th>...</th>\n",
       "      <td>...</td>\n",
       "      <td>...</td>\n",
       "      <td>...</td>\n",
       "      <td>...</td>\n",
       "      <td>...</td>\n",
       "      <td>...</td>\n",
       "      <td>...</td>\n",
       "      <td>...</td>\n",
       "      <td>...</td>\n",
       "      <td>...</td>\n",
       "    </tr>\n",
       "    <tr>\n",
       "      <th>2436</th>\n",
       "      <td>Milan Travels</td>\n",
       "      <td>Bharat Benz A/C Seater /Sleeper (2+1)</td>\n",
       "      <td>19:15</td>\n",
       "      <td>22:30</td>\n",
       "      <td>03h 15m</td>\n",
       "      <td>INR 476</td>\n",
       "      <td>37 Seats available</td>\n",
       "      <td>3.9\\n14</td>\n",
       "      <td>https://www.redbus.in/bus-tickets/bikaner-to-s...</td>\n",
       "      <td>Bikaner to Sikar</td>\n",
       "    </tr>\n",
       "    <tr>\n",
       "      <th>2437</th>\n",
       "      <td>Maharaja Travels</td>\n",
       "      <td>NON AC Seater / Sleeper 2+1</td>\n",
       "      <td>19:30</td>\n",
       "      <td>23:20</td>\n",
       "      <td>03h 50m</td>\n",
       "      <td>INR 300</td>\n",
       "      <td>34 Seats available</td>\n",
       "      <td>3.1</td>\n",
       "      <td>https://www.redbus.in/bus-tickets/bikaner-to-s...</td>\n",
       "      <td>Bikaner to Sikar</td>\n",
       "    </tr>\n",
       "    <tr>\n",
       "      <th>2438</th>\n",
       "      <td>Nandu V.K. Travels</td>\n",
       "      <td>NON A/C Sleeper (2+1)</td>\n",
       "      <td>19:30</td>\n",
       "      <td>23:45</td>\n",
       "      <td>04h 15m</td>\n",
       "      <td>INR 600</td>\n",
       "      <td>29 Seats available</td>\n",
       "      <td>3.1</td>\n",
       "      <td>https://www.redbus.in/bus-tickets/bikaner-to-s...</td>\n",
       "      <td>Bikaner to Sikar</td>\n",
       "    </tr>\n",
       "    <tr>\n",
       "      <th>2439</th>\n",
       "      <td>RATHORE TRAVELS AGENCY</td>\n",
       "      <td>A/C Seater / Sleeper (2+1)</td>\n",
       "      <td>22:30</td>\n",
       "      <td>02:59</td>\n",
       "      <td>04h 29m</td>\n",
       "      <td>INR 350</td>\n",
       "      <td>34 Seats available</td>\n",
       "      <td>3.1\\n4</td>\n",
       "      <td>https://www.redbus.in/bus-tickets/bikaner-to-s...</td>\n",
       "      <td>Bikaner to Sikar</td>\n",
       "    </tr>\n",
       "    <tr>\n",
       "      <th>2440</th>\n",
       "      <td>Maharaja Travels</td>\n",
       "      <td>A/C Seater / Sleeper (2+1)</td>\n",
       "      <td>22:30</td>\n",
       "      <td>02:20</td>\n",
       "      <td>03h 50m</td>\n",
       "      <td>INR 333</td>\n",
       "      <td>42 Seats available</td>\n",
       "      <td>3.1</td>\n",
       "      <td>https://www.redbus.in/bus-tickets/bikaner-to-s...</td>\n",
       "      <td>Bikaner to Sikar</td>\n",
       "    </tr>\n",
       "  </tbody>\n",
       "</table>\n",
       "<p>2441 rows × 10 columns</p>\n",
       "</div>"
      ],
      "text/plain": [
       "                                               Bus_name  \\\n",
       "0     Assam State Transport Corporation (ASTC) - 154930   \n",
       "1                                  Chartered Bus - ASTC   \n",
       "2                                     Himalayan Travels   \n",
       "3                       BLUE HILL TRAVELS INDIA LIMITED   \n",
       "4                       BLUE HILL TRAVELS INDIA LIMITED   \n",
       "...                                                 ...   \n",
       "2436                                      Milan Travels   \n",
       "2437                                   Maharaja Travels   \n",
       "2438                                 Nandu V.K. Travels   \n",
       "2439                             RATHORE TRAVELS AGENCY   \n",
       "2440                                   Maharaja Travels   \n",
       "\n",
       "                                   Bus_type Start_time End_time  \\\n",
       "0                       Volvo AC Seater 2+2      15:45    20:00   \n",
       "1              Volvo AC Seater Pushback 2+2      15:30    19:15   \n",
       "2               NON AC Seater / Sleeper 2+1      23:40    04:00   \n",
       "3         NON A/C Seater Semi Sleeper (2+1)      21:30    03:30   \n",
       "4         NON A/C Seater Semi Sleeper (2+1)      22:15    03:45   \n",
       "...                                     ...        ...      ...   \n",
       "2436  Bharat Benz A/C Seater /Sleeper (2+1)      19:15    22:30   \n",
       "2437            NON AC Seater / Sleeper 2+1      19:30    23:20   \n",
       "2438                  NON A/C Sleeper (2+1)      19:30    23:45   \n",
       "2439             A/C Seater / Sleeper (2+1)      22:30    02:59   \n",
       "2440             A/C Seater / Sleeper (2+1)      22:30    02:20   \n",
       "\n",
       "     Total_duration       Price     Seats_Available   Ratings  \\\n",
       "0           04h 15m     INR 298   6 Seats available   2.9\\n38   \n",
       "1           03h 45m  INR 389.13   2 Seats available  4.6\\n492   \n",
       "2           04h 20m         450  20 Seats available   3.7\\n12   \n",
       "3           06h 00m     INR 400  15 Seats available  2.9\\n100   \n",
       "4           05h 30m     INR 550  30 Seats available   3.7\\n26   \n",
       "...             ...         ...                 ...       ...   \n",
       "2436        03h 15m     INR 476  37 Seats available   3.9\\n14   \n",
       "2437        03h 50m     INR 300  34 Seats available       3.1   \n",
       "2438        04h 15m     INR 600  29 Seats available       3.1   \n",
       "2439        04h 29m     INR 350  34 Seats available    3.1\\n4   \n",
       "2440        03h 50m     INR 333  42 Seats available       3.1   \n",
       "\n",
       "                                             Route_link          Route_name  \n",
       "0     https://www.redbus.in/bus-tickets/tezpur-to-gu...  Tezpur to Guwahati  \n",
       "1     https://www.redbus.in/bus-tickets/tezpur-to-gu...  Tezpur to Guwahati  \n",
       "2     https://www.redbus.in/bus-tickets/tezpur-to-gu...  Tezpur to Guwahati  \n",
       "3     https://www.redbus.in/bus-tickets/tezpur-to-gu...  Tezpur to Guwahati  \n",
       "4     https://www.redbus.in/bus-tickets/tezpur-to-gu...  Tezpur to Guwahati  \n",
       "...                                                 ...                 ...  \n",
       "2436  https://www.redbus.in/bus-tickets/bikaner-to-s...    Bikaner to Sikar  \n",
       "2437  https://www.redbus.in/bus-tickets/bikaner-to-s...    Bikaner to Sikar  \n",
       "2438  https://www.redbus.in/bus-tickets/bikaner-to-s...    Bikaner to Sikar  \n",
       "2439  https://www.redbus.in/bus-tickets/bikaner-to-s...    Bikaner to Sikar  \n",
       "2440  https://www.redbus.in/bus-tickets/bikaner-to-s...    Bikaner to Sikar  \n",
       "\n",
       "[2441 rows x 10 columns]"
      ]
     },
     "execution_count": 3,
     "metadata": {},
     "output_type": "execute_result"
    }
   ],
   "source": [
    "# csv to dataframe\n",
    "df_k=pd.read_csv(\"kerala_busdetails.csv\")\n",
    "df_wb=pd.read_csv(\"wbengal_busdetails.csv\")\n",
    "df_b=pd.read_csv(\"bihar_busdetails.csv\")\n",
    "df_r=pd.read_csv(\"rajas_busdetails.csv\")\n",
    "df_t=pd.read_csv(\"tele_busdetails.csv\")\n",
    "df_up=pd.read_csv(\"up_busdetails.csv\")\n",
    "df_p=pd.read_csv(\"punjab_busdetails.csv\")\n",
    "df_a=pd.read_csv(\"assam_busdetails.csv\")\n",
    "df_ap=pd.read_csv(\"andhra_busdetails.csv\")\n",
    "df_g=pd.read_csv(\"goa_busdetails.csv\")\n",
    "df_full3=pd.concat([df_a,df_up,df_ap,df_b,df_g,df_k,df_p,df_wb,df_t,df_r],ignore_index=True)\n",
    "df_full3"
   ]
  },
  {
   "cell_type": "code",
   "execution_count": 4,
   "metadata": {},
   "outputs": [
    {
     "data": {
      "text/html": [
       "<div>\n",
       "<style scoped>\n",
       "    .dataframe tbody tr th:only-of-type {\n",
       "        vertical-align: middle;\n",
       "    }\n",
       "\n",
       "    .dataframe tbody tr th {\n",
       "        vertical-align: top;\n",
       "    }\n",
       "\n",
       "    .dataframe thead th {\n",
       "        text-align: right;\n",
       "    }\n",
       "</style>\n",
       "<table border=\"1\" class=\"dataframe\">\n",
       "  <thead>\n",
       "    <tr style=\"text-align: right;\">\n",
       "      <th></th>\n",
       "      <th>Bus_name</th>\n",
       "      <th>Bus_type</th>\n",
       "      <th>Start_time</th>\n",
       "      <th>End_time</th>\n",
       "      <th>Total_duration</th>\n",
       "      <th>Price</th>\n",
       "      <th>Seats_Available</th>\n",
       "      <th>Ratings</th>\n",
       "      <th>Route_link</th>\n",
       "      <th>Route_name</th>\n",
       "    </tr>\n",
       "  </thead>\n",
       "  <tbody>\n",
       "    <tr>\n",
       "      <th>0</th>\n",
       "      <td>Assam State Transport Corporation (ASTC) - 154930</td>\n",
       "      <td>Volvo AC Seater 2+2</td>\n",
       "      <td>15:45</td>\n",
       "      <td>20:00</td>\n",
       "      <td>04h 15m</td>\n",
       "      <td>INR 298</td>\n",
       "      <td>6 Seats available</td>\n",
       "      <td>2.9\\n38</td>\n",
       "      <td>https://www.redbus.in/bus-tickets/tezpur-to-gu...</td>\n",
       "      <td>Tezpur to Guwahati</td>\n",
       "    </tr>\n",
       "    <tr>\n",
       "      <th>1</th>\n",
       "      <td>Chartered Bus - ASTC</td>\n",
       "      <td>Volvo AC Seater Pushback 2+2</td>\n",
       "      <td>15:30</td>\n",
       "      <td>19:15</td>\n",
       "      <td>03h 45m</td>\n",
       "      <td>INR 389.13</td>\n",
       "      <td>2 Seats available</td>\n",
       "      <td>4.6\\n492</td>\n",
       "      <td>https://www.redbus.in/bus-tickets/tezpur-to-gu...</td>\n",
       "      <td>Tezpur to Guwahati</td>\n",
       "    </tr>\n",
       "    <tr>\n",
       "      <th>2</th>\n",
       "      <td>Himalayan Travels</td>\n",
       "      <td>NON AC Seater / Sleeper 2+1</td>\n",
       "      <td>23:40</td>\n",
       "      <td>04:00</td>\n",
       "      <td>04h 20m</td>\n",
       "      <td>450</td>\n",
       "      <td>20 Seats available</td>\n",
       "      <td>3.7\\n12</td>\n",
       "      <td>https://www.redbus.in/bus-tickets/tezpur-to-gu...</td>\n",
       "      <td>Tezpur to Guwahati</td>\n",
       "    </tr>\n",
       "    <tr>\n",
       "      <th>3</th>\n",
       "      <td>BLUE HILL TRAVELS INDIA LIMITED</td>\n",
       "      <td>NON A/C Seater Semi Sleeper (2+1)</td>\n",
       "      <td>21:30</td>\n",
       "      <td>03:30</td>\n",
       "      <td>06h 00m</td>\n",
       "      <td>INR 400</td>\n",
       "      <td>15 Seats available</td>\n",
       "      <td>2.9\\n100</td>\n",
       "      <td>https://www.redbus.in/bus-tickets/tezpur-to-gu...</td>\n",
       "      <td>Tezpur to Guwahati</td>\n",
       "    </tr>\n",
       "    <tr>\n",
       "      <th>4</th>\n",
       "      <td>BLUE HILL TRAVELS INDIA LIMITED</td>\n",
       "      <td>NON A/C Seater Semi Sleeper (2+1)</td>\n",
       "      <td>22:15</td>\n",
       "      <td>03:45</td>\n",
       "      <td>05h 30m</td>\n",
       "      <td>INR 550</td>\n",
       "      <td>30 Seats available</td>\n",
       "      <td>3.7\\n26</td>\n",
       "      <td>https://www.redbus.in/bus-tickets/tezpur-to-gu...</td>\n",
       "      <td>Tezpur to Guwahati</td>\n",
       "    </tr>\n",
       "    <tr>\n",
       "      <th>...</th>\n",
       "      <td>...</td>\n",
       "      <td>...</td>\n",
       "      <td>...</td>\n",
       "      <td>...</td>\n",
       "      <td>...</td>\n",
       "      <td>...</td>\n",
       "      <td>...</td>\n",
       "      <td>...</td>\n",
       "      <td>...</td>\n",
       "      <td>...</td>\n",
       "    </tr>\n",
       "    <tr>\n",
       "      <th>2436</th>\n",
       "      <td>Milan Travels</td>\n",
       "      <td>Bharat Benz A/C Seater /Sleeper (2+1)</td>\n",
       "      <td>19:15</td>\n",
       "      <td>22:30</td>\n",
       "      <td>03h 15m</td>\n",
       "      <td>INR 476</td>\n",
       "      <td>37 Seats available</td>\n",
       "      <td>3.9\\n14</td>\n",
       "      <td>https://www.redbus.in/bus-tickets/bikaner-to-s...</td>\n",
       "      <td>Bikaner to Sikar</td>\n",
       "    </tr>\n",
       "    <tr>\n",
       "      <th>2437</th>\n",
       "      <td>Maharaja Travels</td>\n",
       "      <td>NON AC Seater / Sleeper 2+1</td>\n",
       "      <td>19:30</td>\n",
       "      <td>23:20</td>\n",
       "      <td>03h 50m</td>\n",
       "      <td>INR 300</td>\n",
       "      <td>34 Seats available</td>\n",
       "      <td>3.1</td>\n",
       "      <td>https://www.redbus.in/bus-tickets/bikaner-to-s...</td>\n",
       "      <td>Bikaner to Sikar</td>\n",
       "    </tr>\n",
       "    <tr>\n",
       "      <th>2438</th>\n",
       "      <td>Nandu V.K. Travels</td>\n",
       "      <td>NON A/C Sleeper (2+1)</td>\n",
       "      <td>19:30</td>\n",
       "      <td>23:45</td>\n",
       "      <td>04h 15m</td>\n",
       "      <td>INR 600</td>\n",
       "      <td>29 Seats available</td>\n",
       "      <td>3.1</td>\n",
       "      <td>https://www.redbus.in/bus-tickets/bikaner-to-s...</td>\n",
       "      <td>Bikaner to Sikar</td>\n",
       "    </tr>\n",
       "    <tr>\n",
       "      <th>2439</th>\n",
       "      <td>RATHORE TRAVELS AGENCY</td>\n",
       "      <td>A/C Seater / Sleeper (2+1)</td>\n",
       "      <td>22:30</td>\n",
       "      <td>02:59</td>\n",
       "      <td>04h 29m</td>\n",
       "      <td>INR 350</td>\n",
       "      <td>34 Seats available</td>\n",
       "      <td>3.1\\n4</td>\n",
       "      <td>https://www.redbus.in/bus-tickets/bikaner-to-s...</td>\n",
       "      <td>Bikaner to Sikar</td>\n",
       "    </tr>\n",
       "    <tr>\n",
       "      <th>2440</th>\n",
       "      <td>Maharaja Travels</td>\n",
       "      <td>A/C Seater / Sleeper (2+1)</td>\n",
       "      <td>22:30</td>\n",
       "      <td>02:20</td>\n",
       "      <td>03h 50m</td>\n",
       "      <td>INR 333</td>\n",
       "      <td>42 Seats available</td>\n",
       "      <td>3.1</td>\n",
       "      <td>https://www.redbus.in/bus-tickets/bikaner-to-s...</td>\n",
       "      <td>Bikaner to Sikar</td>\n",
       "    </tr>\n",
       "  </tbody>\n",
       "</table>\n",
       "<p>2441 rows × 10 columns</p>\n",
       "</div>"
      ],
      "text/plain": [
       "                                               Bus_name  \\\n",
       "0     Assam State Transport Corporation (ASTC) - 154930   \n",
       "1                                  Chartered Bus - ASTC   \n",
       "2                                     Himalayan Travels   \n",
       "3                       BLUE HILL TRAVELS INDIA LIMITED   \n",
       "4                       BLUE HILL TRAVELS INDIA LIMITED   \n",
       "...                                                 ...   \n",
       "2436                                      Milan Travels   \n",
       "2437                                   Maharaja Travels   \n",
       "2438                                 Nandu V.K. Travels   \n",
       "2439                             RATHORE TRAVELS AGENCY   \n",
       "2440                                   Maharaja Travels   \n",
       "\n",
       "                                   Bus_type Start_time End_time  \\\n",
       "0                       Volvo AC Seater 2+2      15:45    20:00   \n",
       "1              Volvo AC Seater Pushback 2+2      15:30    19:15   \n",
       "2               NON AC Seater / Sleeper 2+1      23:40    04:00   \n",
       "3         NON A/C Seater Semi Sleeper (2+1)      21:30    03:30   \n",
       "4         NON A/C Seater Semi Sleeper (2+1)      22:15    03:45   \n",
       "...                                     ...        ...      ...   \n",
       "2436  Bharat Benz A/C Seater /Sleeper (2+1)      19:15    22:30   \n",
       "2437            NON AC Seater / Sleeper 2+1      19:30    23:20   \n",
       "2438                  NON A/C Sleeper (2+1)      19:30    23:45   \n",
       "2439             A/C Seater / Sleeper (2+1)      22:30    02:59   \n",
       "2440             A/C Seater / Sleeper (2+1)      22:30    02:20   \n",
       "\n",
       "     Total_duration       Price     Seats_Available   Ratings  \\\n",
       "0           04h 15m     INR 298   6 Seats available   2.9\\n38   \n",
       "1           03h 45m  INR 389.13   2 Seats available  4.6\\n492   \n",
       "2           04h 20m         450  20 Seats available   3.7\\n12   \n",
       "3           06h 00m     INR 400  15 Seats available  2.9\\n100   \n",
       "4           05h 30m     INR 550  30 Seats available   3.7\\n26   \n",
       "...             ...         ...                 ...       ...   \n",
       "2436        03h 15m     INR 476  37 Seats available   3.9\\n14   \n",
       "2437        03h 50m     INR 300  34 Seats available       3.1   \n",
       "2438        04h 15m     INR 600  29 Seats available       3.1   \n",
       "2439        04h 29m     INR 350  34 Seats available    3.1\\n4   \n",
       "2440        03h 50m     INR 333  42 Seats available       3.1   \n",
       "\n",
       "                                             Route_link          Route_name  \n",
       "0     https://www.redbus.in/bus-tickets/tezpur-to-gu...  Tezpur to Guwahati  \n",
       "1     https://www.redbus.in/bus-tickets/tezpur-to-gu...  Tezpur to Guwahati  \n",
       "2     https://www.redbus.in/bus-tickets/tezpur-to-gu...  Tezpur to Guwahati  \n",
       "3     https://www.redbus.in/bus-tickets/tezpur-to-gu...  Tezpur to Guwahati  \n",
       "4     https://www.redbus.in/bus-tickets/tezpur-to-gu...  Tezpur to Guwahati  \n",
       "...                                                 ...                 ...  \n",
       "2436  https://www.redbus.in/bus-tickets/bikaner-to-s...    Bikaner to Sikar  \n",
       "2437  https://www.redbus.in/bus-tickets/bikaner-to-s...    Bikaner to Sikar  \n",
       "2438  https://www.redbus.in/bus-tickets/bikaner-to-s...    Bikaner to Sikar  \n",
       "2439  https://www.redbus.in/bus-tickets/bikaner-to-s...    Bikaner to Sikar  \n",
       "2440  https://www.redbus.in/bus-tickets/bikaner-to-s...    Bikaner to Sikar  \n",
       "\n",
       "[2441 rows x 10 columns]"
      ]
     },
     "execution_count": 4,
     "metadata": {},
     "output_type": "execute_result"
    }
   ],
   "source": [
    "df_full3"
   ]
  },
  {
   "cell_type": "markdown",
   "metadata": {},
   "source": [
    "Data cleaning"
   ]
  },
  {
   "cell_type": "code",
   "execution_count": 5,
   "metadata": {},
   "outputs": [
    {
     "data": {
      "text/plain": [
       "Index(['Bus_name', 'Bus_type', 'Start_time', 'End_time', 'Total_duration',\n",
       "       'Price', 'Seats_Available', 'Ratings', 'Route_link', 'Route_name'],\n",
       "      dtype='object')"
      ]
     },
     "execution_count": 5,
     "metadata": {},
     "output_type": "execute_result"
    }
   ],
   "source": [
    "df_full3.columns"
   ]
  },
  {
   "cell_type": "code",
   "execution_count": 6,
   "metadata": {},
   "outputs": [
    {
     "name": "stdout",
     "output_type": "stream",
     "text": [
      "<class 'pandas.core.frame.DataFrame'>\n",
      "RangeIndex: 2441 entries, 0 to 2440\n",
      "Data columns (total 10 columns):\n",
      " #   Column           Non-Null Count  Dtype \n",
      "---  ------           --------------  ----- \n",
      " 0   Bus_name         2441 non-null   object\n",
      " 1   Bus_type         2441 non-null   object\n",
      " 2   Start_time       2441 non-null   object\n",
      " 3   End_time         2441 non-null   object\n",
      " 4   Total_duration   2441 non-null   object\n",
      " 5   Price            2441 non-null   object\n",
      " 6   Seats_Available  2441 non-null   object\n",
      " 7   Ratings          2441 non-null   object\n",
      " 8   Route_link       2441 non-null   object\n",
      " 9   Route_name       2441 non-null   object\n",
      "dtypes: object(10)\n",
      "memory usage: 190.8+ KB\n"
     ]
    }
   ],
   "source": [
    "# data about the data\n",
    "df_full3.info()"
   ]
  },
  {
   "cell_type": "code",
   "execution_count": 7,
   "metadata": {},
   "outputs": [
    {
     "data": {
      "text/plain": [
       "0          INR 298\n",
       "1       INR 389.13\n",
       "2              450\n",
       "3          INR 400\n",
       "4          INR 550\n",
       "           ...    \n",
       "2436       INR 476\n",
       "2437       INR 300\n",
       "2438       INR 600\n",
       "2439       INR 350\n",
       "2440       INR 333\n",
       "Name: Price, Length: 2441, dtype: object"
      ]
     },
     "execution_count": 7,
     "metadata": {},
     "output_type": "execute_result"
    }
   ],
   "source": [
    "df_full3[\"Price\"]"
   ]
  },
  {
   "cell_type": "code",
   "execution_count": 8,
   "metadata": {},
   "outputs": [
    {
     "data": {
      "text/plain": [
       "0       298.00\n",
       "1       389.13\n",
       "2       450.00\n",
       "3       400.00\n",
       "4       550.00\n",
       "         ...  \n",
       "2436    476.00\n",
       "2437    300.00\n",
       "2438    600.00\n",
       "2439    350.00\n",
       "2440    333.00\n",
       "Name: Price, Length: 2441, dtype: float64"
      ]
     },
     "execution_count": 8,
     "metadata": {},
     "output_type": "execute_result"
    }
   ],
   "source": [
    "#convert prices to numeric\n",
    "# remove  INR \n",
    "# fill null values with 0\n",
    "df_full3[\"Price\"]=df_full3[\"Price\"].str.replace(\"INR\",\"\")\n",
    "df_full3[\"Price\"]=df_full3[\"Price\"].astype(float)\n",
    "df_full3[\"Price\"].fillna(0) \n"
   ]
  },
  {
   "cell_type": "code",
   "execution_count": 9,
   "metadata": {},
   "outputs": [
    {
     "data": {
      "text/plain": [
       "0        2.9\\n38\n",
       "1       4.6\\n492\n",
       "2        3.7\\n12\n",
       "3       2.9\\n100\n",
       "4        3.7\\n26\n",
       "          ...   \n",
       "2436     3.9\\n14\n",
       "2437         3.1\n",
       "2438         3.1\n",
       "2439      3.1\\n4\n",
       "2440         3.1\n",
       "Name: Ratings, Length: 2441, dtype: object"
      ]
     },
     "execution_count": 9,
     "metadata": {},
     "output_type": "execute_result"
    }
   ],
   "source": [
    "df_full3[\"Ratings\"]"
   ]
  },
  {
   "cell_type": "code",
   "execution_count": 10,
   "metadata": {},
   "outputs": [
    {
     "name": "stderr",
     "output_type": "stream",
     "text": [
      "C:\\Users\\Vinith\\AppData\\Local\\Temp\\ipykernel_6864\\763367933.py:6: FutureWarning: A value is trying to be set on a copy of a DataFrame or Series through chained assignment using an inplace method.\n",
      "The behavior will change in pandas 3.0. This inplace method will never work because the intermediate object on which we are setting values always behaves as a copy.\n",
      "\n",
      "For example, when doing 'df[col].method(value, inplace=True)', try using 'df.method({col: value}, inplace=True)' or df[col] = df[col].method(value) instead, to perform the operation inplace on the original object.\n",
      "\n",
      "\n",
      "  df_full3[\"Ratings\"].fillna(0,inplace=True)\n"
     ]
    },
    {
     "data": {
      "text/plain": [
       "0       2.9\n",
       "1       4.6\n",
       "2       3.7\n",
       "3       2.9\n",
       "4       3.7\n",
       "       ... \n",
       "2436    3.9\n",
       "2437    3.1\n",
       "2438    3.1\n",
       "2439    3.1\n",
       "2440    3.1\n",
       "Name: Ratings, Length: 2441, dtype: float64"
      ]
     },
     "execution_count": 10,
     "metadata": {},
     "output_type": "execute_result"
    }
   ],
   "source": [
    "#convert Ratings to numeric\n",
    "df_full3[\"Ratings\"]=df_full3[\"Ratings\"].str.replace(\"New\",\"\")\n",
    "df_full3[\"Ratings\"]=df_full3[\"Ratings\"].str.strip()\n",
    "df_full3[\"Ratings\"]=df_full3[\"Ratings\"].str.split().str[0]\n",
    "df_full3[\"Ratings\"] = pd.to_numeric(df_full3[\"Ratings\"], errors='coerce') #  invalid parsing will be set as NaN \n",
    "df_full3[\"Ratings\"].fillna(0,inplace=True) \n",
    "df_full3[\"Ratings\"]"
   ]
  },
  {
   "cell_type": "code",
   "execution_count": 11,
   "metadata": {},
   "outputs": [
    {
     "name": "stdout",
     "output_type": "stream",
     "text": [
      "<class 'pandas.core.frame.DataFrame'>\n",
      "RangeIndex: 2441 entries, 0 to 2440\n",
      "Data columns (total 10 columns):\n",
      " #   Column           Non-Null Count  Dtype  \n",
      "---  ------           --------------  -----  \n",
      " 0   Bus_name         2441 non-null   object \n",
      " 1   Bus_type         2441 non-null   object \n",
      " 2   Start_time       2441 non-null   object \n",
      " 3   End_time         2441 non-null   object \n",
      " 4   Total_duration   2441 non-null   object \n",
      " 5   Price            2441 non-null   float64\n",
      " 6   Seats_Available  2441 non-null   object \n",
      " 7   Ratings          2441 non-null   float64\n",
      " 8   Route_link       2441 non-null   object \n",
      " 9   Route_name       2441 non-null   object \n",
      "dtypes: float64(2), object(8)\n",
      "memory usage: 190.8+ KB\n"
     ]
    }
   ],
   "source": [
    "# info after the data type change\n",
    "df_full3.info()"
   ]
  },
  {
   "cell_type": "code",
   "execution_count": 12,
   "metadata": {},
   "outputs": [],
   "source": [
    "df_full3.fillna(0,inplace=True)"
   ]
  },
  {
   "cell_type": "code",
   "execution_count": 13,
   "metadata": {},
   "outputs": [
    {
     "name": "stdout",
     "output_type": "stream",
     "text": [
      "<class 'pandas.core.frame.DataFrame'>\n",
      "RangeIndex: 2441 entries, 0 to 2440\n",
      "Data columns (total 10 columns):\n",
      " #   Column           Non-Null Count  Dtype  \n",
      "---  ------           --------------  -----  \n",
      " 0   Bus_name         2441 non-null   object \n",
      " 1   Bus_type         2441 non-null   object \n",
      " 2   Start_time       2441 non-null   object \n",
      " 3   End_time         2441 non-null   object \n",
      " 4   Total_duration   2441 non-null   object \n",
      " 5   Price            2441 non-null   float64\n",
      " 6   Seats_Available  2441 non-null   object \n",
      " 7   Ratings          2441 non-null   float64\n",
      " 8   Route_link       2441 non-null   object \n",
      " 9   Route_name       2441 non-null   object \n",
      "dtypes: float64(2), object(8)\n",
      "memory usage: 190.8+ KB\n"
     ]
    }
   ],
   "source": [
    "df_full3.info()"
   ]
  },
  {
   "cell_type": "code",
   "execution_count": 14,
   "metadata": {},
   "outputs": [],
   "source": [
    "# change dataframe to csv\n",
    "path=r\"D:/Redbus/complete_busdetails_clean3.csv\"\n",
    "df_full3.to_csv(path,index=False)"
   ]
  },
  {
   "cell_type": "markdown",
   "metadata": {},
   "source": [
    "# Create a mysql database"
   ]
  },
  {
   "cell_type": "code",
   "execution_count": 15,
   "metadata": {},
   "outputs": [],
   "source": [
    "conn = mysql.connector.connect(host=\"localhost\", user=\"root\", password=\"Vinith@97\", database=\"redbus\")"
   ]
  },
  {
   "cell_type": "code",
   "execution_count": 16,
   "metadata": {},
   "outputs": [],
   "source": [
    "#sql connection\n",
    "conn=mysql.connector.connect(host=\"localhost\", user=\"root\", password=\"Vinith@97\",database=\"redbus\")\n",
    "my_cursor = conn.cursor()\n",
    "my_cursor.execute(\"CREATE DATABASE IF NOT EXISTS redbus\")"
   ]
  },
  {
   "cell_type": "code",
   "execution_count": 17,
   "metadata": {},
   "outputs": [
    {
     "name": "stdout",
     "output_type": "stream",
     "text": [
      "MySQL Table Created in redbus Database successfully\n"
     ]
    }
   ],
   "source": [
    "# Table Creation\n",
    "my_cursor.execute('''CREATE TABLE IF NOT EXISTS bus_details3(\n",
    "                  ID INT AUTO_INCREMENT PRIMARY KEY,\n",
    "                  Bus_name VARCHAR(255) NOT NULL,\n",
    "                  Bus_type VARCHAR(255) NOT NULL,\n",
    "                  Start_time VARCHAR(255) NOT NULL,\n",
    "                  End_time VARCHAR(255) NOT NULL,\n",
    "                  Total_duration VARCHAR(255) NOT NULL,\n",
    "                  Price FLOAT default 0,\n",
    "                  Seats_Available VARCHAR(255) NOT NULL,\n",
    "                  Ratings Float NULL,\n",
    "                  Route_link VARCHAR(255) NULL,\n",
    "                  Route_name VARCHAR(255) NULL\n",
    "                  )''')\n",
    "print(\"MySQL Table Created in redbus Database successfully\")"
   ]
  },
  {
   "cell_type": "code",
   "execution_count": 18,
   "metadata": {},
   "outputs": [
    {
     "name": "stdout",
     "output_type": "stream",
     "text": [
      "MySQL Table 'bus_details3' created successfully in the 'redbus' database\n"
     ]
    }
   ],
   "source": [
    "# Table Creation\n",
    "my_cursor.execute('''CREATE TABLE IF NOT EXISTS bus_details3(\n",
    "                  ID INT AUTO_INCREMENT PRIMARY KEY,\n",
    "                  Bus_name VARCHAR(255) NOT NULL,\n",
    "                  Bus_type VARCHAR(255) NOT NULL,\n",
    "                  Start_time VARCHAR(255) NOT NULL,\n",
    "                  End_time VARCHAR(255) NOT NULL,\n",
    "                  Total_duration VARCHAR(255) NOT NULL,\n",
    "                  Price FLOAT default 0,\n",
    "                  Seats_Available VARCHAR(255) NOT NULL,\n",
    "                  Ratings Float NULL,\n",
    "                  Route_link VARCHAR(255) NULL,\n",
    "                  Route_name VARCHAR(255) NULL\n",
    "                  )''')\n",
    "print(\"MySQL Table 'bus_details3' created successfully in the 'redbus' database\")"
   ]
  },
  {
   "cell_type": "code",
   "execution_count": 20,
   "metadata": {},
   "outputs": [],
   "source": [
    "# SQL query to insert data into bus_details table\n",
    "insert_query = '''INSERT INTO bus_details3(\n",
    "                    Bus_name,\n",
    "                    Bus_type,\n",
    "                    Start_time,\n",
    "                    End_time,\n",
    "                    Total_duration,\n",
    "                    Price,\n",
    "                    Seats_Available,\n",
    "                    Ratings,\n",
    "                    Route_link,\n",
    "                    Route_name)\n",
    "                  VALUES(%s, %s, %s, %s, %s, %s, %s, %s, %s, %s)'''\n",
    "data = df_full3.values.tolist()\n",
    "\n",
    "my_cursor.executemany(insert_query, data)\n",
    "\n",
    "conn.commit()\n"
   ]
  }
 ],
 "metadata": {
  "kernelspec": {
   "display_name": "Python 3",
   "language": "python",
   "name": "python3"
  },
  "language_info": {
   "codemirror_mode": {
    "name": "ipython",
    "version": 3
   },
   "file_extension": ".py",
   "mimetype": "text/x-python",
   "name": "python",
   "nbconvert_exporter": "python",
   "pygments_lexer": "ipython3",
   "version": "3.12.3"
  }
 },
 "nbformat": 4,
 "nbformat_minor": 2
}
